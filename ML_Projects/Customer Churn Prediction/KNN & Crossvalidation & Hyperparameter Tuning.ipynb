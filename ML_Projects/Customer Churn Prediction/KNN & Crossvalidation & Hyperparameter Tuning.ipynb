{
 "cells": [
  {
   "cell_type": "code",
   "execution_count": 2,
   "metadata": {
    "ExecuteTime": {
     "end_time": "2025-08-03T11:10:47.228565Z",
     "start_time": "2025-08-03T11:10:45.582499Z"
    },
    "id": "Z-mntPMAH-rv"
   },
   "outputs": [
    {
     "name": "stderr",
     "output_type": "stream",
     "text": [
      "/Users/sofiapetrova/anaconda3/lib/python3.10/site-packages/sklearn/preprocessing/_encoders.py:828: FutureWarning: `sparse` was renamed to `sparse_output` in version 1.2 and will be removed in 1.4. `sparse_output` is ignored unless you leave `sparse` to its default value.\n",
      "  warnings.warn(\n"
     ]
    }
   ],
   "source": [
    "import pandas as pd\n",
    "import numpy as np\n",
    "import matplotlib.pyplot as plt\n",
    "from sklearn.neighbors import KNeighborsClassifier\n",
    "from sklearn.tree import DecisionTreeClassifier\n",
    "from sklearn.model_selection import GridSearchCV, RandomizedSearchCV\n",
    "from sklearn.metrics import roc_auc_score, roc_curve\n",
    "from process_bank_churn import preprocess_data, preprocess_new_data\n",
    "import time\n",
    "\n",
    "train_df = pd.read_csv(\"train.csv\")\n",
    "test_df = pd.read_csv(\"test.csv\")\n",
    "sample_submission = pd.read_csv(\"sample_submission.csv\")\n",
    "\n",
    "X_train, y_train, X_val, y_val, input_cols, scaler, encoder = preprocess_data(train_df, scale_numeric=True)"
   ]
  },
  {
   "cell_type": "code",
   "execution_count": 3,
   "metadata": {
    "ExecuteTime": {
     "end_time": "2025-08-03T11:10:47.628949Z",
     "start_time": "2025-08-03T11:10:47.230137Z"
    },
    "id": "1TH7H_Z9IAHD"
   },
   "outputs": [
    {
     "name": "stdout",
     "output_type": "stream",
     "text": [
      "Train AUROC: 0.9617\n",
      "Validation AUROC: 0.8679\n"
     ]
    }
   ],
   "source": [
    "knn = KNeighborsClassifier()\n",
    "knn.fit(X_train, y_train)\n",
    "\n",
    "\n",
    "train_preds = knn.predict_proba(X_train)[:,1]\n",
    "val_preds = knn.predict_proba(X_val)[:,1]\n",
    "\n",
    "\n",
    "train_auc = roc_auc_score(y_train, train_preds)\n",
    "val_auc = roc_auc_score(y_val, val_preds)\n",
    "\n",
    "print(f\"Train AUROC: {train_auc:.4f}\")\n",
    "print(f\"Validation AUROC: {val_auc:.4f}\")\n"
   ]
  },
  {
   "cell_type": "markdown",
   "metadata": {},
   "source": [
    "**On the training set, the result is very high, but on the validation set it is noticeably lower. The model does not suffer from high bias, it fits the training data well. The gap between training and validation performance indicates overfitting/high variance. This is expected for kNN, since the method is sensitive to local data patterns and the scale of features.**"
   ]
  },
  {
   "cell_type": "code",
   "execution_count": 4,
   "metadata": {
    "ExecuteTime": {
     "end_time": "2025-08-03T11:10:53.225110Z",
     "start_time": "2025-08-03T11:10:47.629738Z"
    },
    "id": "a50AtDZ9IDNx"
   },
   "outputs": [
    {
     "name": "stdout",
     "output_type": "stream",
     "text": [
      "Найкращий параметр n_neighbors: {'n_neighbors': 29}\n",
      "Train AUROC: 0.9343208861545823\n",
      "Validation AUROC: 0.9101219089434536\n"
     ]
    }
   ],
   "source": [
    "param_grid = {\"n_neighbors\": list(range(2, 31, 3))}\n",
    "grid_knn = GridSearchCV(\n",
    "    estimator=KNeighborsClassifier(),\n",
    "    param_grid=param_grid,\n",
    "    cv=5,\n",
    "    scoring=\"roc_auc\",\n",
    "    n_jobs=-1\n",
    ")\n",
    "\n",
    "grid_knn.fit(X_train, y_train)\n",
    "knn_best = grid_knn.best_estimator_\n",
    "\n",
    "print(\"Best parameter n_neighbors:\", grid_knn.best_params_)\n",
    "\n",
    "train_preds_best = knn_best.predict_proba(X_train)[:,1]\n",
    "val_preds_best = knn_best.predict_proba(X_val)[:,1]\n",
    "\n",
    "print(\"Train AUROC:\", roc_auc_score(y_train, train_preds_best))\n",
    "print(\"Validation AUROC:\", roc_auc_score(y_val, val_preds_best))\n"
   ]
  },
  {
   "cell_type": "markdown",
   "metadata": {},
   "source": [
    "**The gap between training and validation is now much smaller, which indicates a reduction in high variance. The model has become more balanced. The decision tree generalizes slightly better (0.9153 on validation).**"
   ]
  },
  {
   "cell_type": "code",
   "execution_count": 5,
   "metadata": {
    "ExecuteTime": {
     "end_time": "2025-08-03T11:10:54.270366Z",
     "start_time": "2025-08-03T11:10:53.226830Z"
    },
    "id": "RVg6jX-7IEwl"
   },
   "outputs": [
    {
     "name": "stdout",
     "output_type": "stream",
     "text": [
      "Час пошуку: 1.032602071762085 секунд\n",
      "Найкращі параметри: {'max_depth': 5, 'max_leaf_nodes': 10}\n",
      "Train AUROC: 0.9073235544075688\n",
      "Validation AUROC: 0.8880524407604071\n"
     ]
    }
   ],
   "source": [
    "param_grid_dt = {\n",
    "    \"max_depth\": list(range(1, 21, 2)),\n",
    "    \"max_leaf_nodes\": list(range(2, 11, 1))\n",
    "}\n",
    "\n",
    "dt = DecisionTreeClassifier(random_state=42)\n",
    "\n",
    "start = time.time()\n",
    "grid_dt = GridSearchCV(\n",
    "    estimator=dt,\n",
    "    param_grid=param_grid_dt,\n",
    "    cv=3,\n",
    "    scoring=\"roc_auc\",\n",
    "    n_jobs=-1\n",
    ")\n",
    "grid_dt.fit(X_train, y_train)\n",
    "end = time.time()\n",
    "\n",
    "dt_best = grid_dt.best_estimator_\n",
    "\n",
    "print(\"Time:\", end - start, \"sec\")\n",
    "print(\"Best parameters:\", grid_dt.best_params_)\n",
    "\n",
    "\n",
    "train_preds_dt = dt_best.predict_proba(X_train)[:,1]\n",
    "val_preds_dt = dt_best.predict_proba(X_val)[:,1]\n",
    "\n",
    "print(\"Train AUROC:\", roc_auc_score(y_train, train_preds_dt))\n",
    "print(\"Validation AUROC:\", roc_auc_score(y_val, val_preds_dt))\n"
   ]
  },
  {
   "cell_type": "markdown",
   "metadata": {},
   "source": [
    "**GridSearchCV, using the specified parameter grid, selected a simpler tree that shows lower validation performance. The model became less complex and more stable, but it lost predictive power. It performs worse than the one tuned manually.**"
   ]
  },
  {
   "cell_type": "code",
   "execution_count": 6,
   "metadata": {
    "ExecuteTime": {
     "end_time": "2025-08-03T11:10:54.697180Z",
     "start_time": "2025-08-03T11:10:54.272473Z"
    },
    "id": "MyHVD-R0IXqv"
   },
   "outputs": [
    {
     "name": "stdout",
     "output_type": "stream",
     "text": [
      "Час пошуку: 0.4089169502258301 секунд\n",
      "Найкращі параметри: {'splitter': 'best', 'min_samples_split': 20, 'min_samples_leaf': 2, 'max_leaf_nodes': 14, 'max_features': None, 'max_depth': 16, 'criterion': 'entropy'}\n",
      "Train AUROC: 0.9183779916036456\n",
      "Validation AUROC: 0.9025238054687034\n"
     ]
    }
   ],
   "source": [
    "params_dt = {\n",
    "    \"criterion\": [\"gini\", \"entropy\"],\n",
    "    \"splitter\": [\"best\", \"random\"],\n",
    "    \"max_depth\": np.arange(1, 20),\n",
    "    \"max_leaf_nodes\": np.arange(2, 20),\n",
    "    \"min_samples_split\": [2, 5, 10, 20],\n",
    "    \"min_samples_leaf\": [1, 2, 4, 8],\n",
    "    \"max_features\": [None, \"sqrt\", \"log2\"]\n",
    "}\n",
    "\n",
    "dt = DecisionTreeClassifier(random_state=42)\n",
    "\n",
    "start = time.time()\n",
    "random_dt = RandomizedSearchCV(\n",
    "    estimator=dt,\n",
    "    param_distributions=params_dt,\n",
    "    n_iter=40,\n",
    "    cv=3,\n",
    "    scoring=\"roc_auc\",\n",
    "    random_state=42,\n",
    "    n_jobs=-1\n",
    ")\n",
    "random_dt.fit(X_train, y_train)\n",
    "end = time.time()\n",
    "\n",
    "dt_random_search_best = random_dt.best_estimator_\n",
    "\n",
    "print(\"Time:\", end - start, \"sec\")\n",
    "print(\"Best parameters:\", random_dt.best_params_)\n",
    "\n",
    "\n",
    "train_preds_dt_rand = dt_random_search_best.predict_proba(X_train)[:,1]\n",
    "val_preds_dt_rand = dt_random_search_best.predict_proba(X_val)[:,1]\n",
    "\n",
    "print(\"Train AUROC:\", roc_auc_score(y_train, train_preds_dt_rand))\n",
    "print(\"Validation AUROC:\", roc_auc_score(y_val, val_preds_dt_rand))\n"
   ]
  },
  {
   "cell_type": "markdown",
   "metadata": {},
   "source": [
    "**RandomizedSearchCV selected a more complex and balanced model that outperforms GridSearchCV. The key difference in parameters is that RandomizedSearch was able to find a combination of tree depth and constraints that achieved a better balance between bias and variance.**"
   ]
  },
  {
   "cell_type": "code",
   "execution_count": 7,
   "metadata": {
    "ExecuteTime": {
     "end_time": "2025-08-03T11:10:55.289411Z",
     "start_time": "2025-08-03T11:10:54.698226Z"
    },
    "id": "vadJfLlMF_V3"
   },
   "outputs": [],
   "source": [
    "X_test = preprocess_new_data(test_df, input_cols, encoder, scaler)\n",
    "\n",
    "# prediction with the best kNN model\n",
    "test_preds = knn_best.predict_proba(X_test)[:,1]\n",
    "\n",
    "submission = sample_submission.copy()\n",
    "submission[\"Exited\"] = test_preds\n",
    "submission.to_csv(\"submission_knn_best.csv\", index=False)"
   ]
  }
 ],
 "metadata": {
  "colab": {
   "provenance": []
  },
  "kernelspec": {
   "display_name": "Python 3 (ipykernel)",
   "language": "python",
   "name": "python3"
  },
  "language_info": {
   "codemirror_mode": {
    "name": "ipython",
    "version": 3
   },
   "file_extension": ".py",
   "mimetype": "text/x-python",
   "name": "python",
   "nbconvert_exporter": "python",
   "pygments_lexer": "ipython3",
   "version": "3.10.12"
  },
  "toc": {
   "base_numbering": 1,
   "nav_menu": {
    "height": "30px",
    "width": "171px"
   },
   "number_sections": true,
   "sideBar": true,
   "skip_h1_title": false,
   "title_cell": "Table of Contents",
   "title_sidebar": "Contents",
   "toc_cell": false,
   "toc_position": {},
   "toc_section_display": true,
   "toc_window_display": false
  },
  "varInspector": {
   "cols": {
    "lenName": 16,
    "lenType": 16,
    "lenVar": 40
   },
   "kernels_config": {
    "python": {
     "delete_cmd_postfix": "",
     "delete_cmd_prefix": "del ",
     "library": "var_list.py",
     "varRefreshCmd": "print(var_dic_list())"
    },
    "r": {
     "delete_cmd_postfix": ") ",
     "delete_cmd_prefix": "rm(",
     "library": "var_list.r",
     "varRefreshCmd": "cat(var_dic_list()) "
    }
   },
   "types_to_exclude": [
    "module",
    "function",
    "builtin_function_or_method",
    "instance",
    "_Feature"
   ],
   "window_display": false
  }
 },
 "nbformat": 4,
 "nbformat_minor": 1
}
